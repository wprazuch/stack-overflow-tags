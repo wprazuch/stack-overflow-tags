{
 "cells": [
  {
   "cell_type": "code",
   "execution_count": 1,
   "metadata": {},
   "outputs": [],
   "source": [
    "import pandas as pd\n",
    "import numpy as np\n",
    "\n",
    "\n",
    "np.random.seed(19)"
   ]
  },
  {
   "cell_type": "code",
   "execution_count": 2,
   "metadata": {},
   "outputs": [],
   "source": [
    "#train_file_path = r'datasets\\Train.csv'"
   ]
  },
  {
   "cell_type": "code",
   "execution_count": 3,
   "metadata": {},
   "outputs": [],
   "source": [
    "#train = pd.read_csv(train_file_path)"
   ]
  },
  {
   "cell_type": "code",
   "execution_count": 4,
   "metadata": {},
   "outputs": [],
   "source": [
    "#train.shape"
   ]
  },
  {
   "cell_type": "markdown",
   "metadata": {},
   "source": [
    "Wow, that's a lot! We will create dummy train and dummy test datasets to play with data, as such huge dataset is troublesome"
   ]
  },
  {
   "cell_type": "code",
   "execution_count": 5,
   "metadata": {},
   "outputs": [],
   "source": [
    "#sample = train.sample(300000)"
   ]
  },
  {
   "cell_type": "code",
   "execution_count": 6,
   "metadata": {},
   "outputs": [],
   "source": [
    "#threshold = int(0.8 * sample.shape[0])"
   ]
  },
  {
   "cell_type": "code",
   "execution_count": 7,
   "metadata": {},
   "outputs": [],
   "source": [
    "#train, test = sample[:threshold], sample[threshold:]"
   ]
  },
  {
   "cell_type": "code",
   "execution_count": 8,
   "metadata": {},
   "outputs": [],
   "source": [
    "#train.shape"
   ]
  },
  {
   "cell_type": "code",
   "execution_count": 9,
   "metadata": {},
   "outputs": [],
   "source": [
    "#test.shape"
   ]
  },
  {
   "cell_type": "code",
   "execution_count": 10,
   "metadata": {},
   "outputs": [],
   "source": [
    "#train.to_hdf('datasets\\dummy_train.h5', key='df')\n",
    "#test.to_hdf('datasets\\dummy_test.h5', key='df')"
   ]
  },
  {
   "cell_type": "code",
   "execution_count": 11,
   "metadata": {},
   "outputs": [],
   "source": [
    "train = pd.read_hdf(r'datasets\\dummy_train.h5', key='df')"
   ]
  },
  {
   "cell_type": "code",
   "execution_count": 12,
   "metadata": {},
   "outputs": [
    {
     "data": {
      "text/html": [
       "<div>\n",
       "<style scoped>\n",
       "    .dataframe tbody tr th:only-of-type {\n",
       "        vertical-align: middle;\n",
       "    }\n",
       "\n",
       "    .dataframe tbody tr th {\n",
       "        vertical-align: top;\n",
       "    }\n",
       "\n",
       "    .dataframe thead th {\n",
       "        text-align: right;\n",
       "    }\n",
       "</style>\n",
       "<table border=\"1\" class=\"dataframe\">\n",
       "  <thead>\n",
       "    <tr style=\"text-align: right;\">\n",
       "      <th></th>\n",
       "      <th>Id</th>\n",
       "      <th>Title</th>\n",
       "      <th>Body</th>\n",
       "      <th>Tags</th>\n",
       "    </tr>\n",
       "  </thead>\n",
       "  <tbody>\n",
       "    <tr>\n",
       "      <th>2530000</th>\n",
       "      <td>2530001</td>\n",
       "      <td>SQL Filtering based on Calculated Time Slots</td>\n",
       "      <td>&lt;p&gt;Im making a simple booking system for our p...</td>\n",
       "      <td>sql sql-server asp.net-mvc query tsql</td>\n",
       "    </tr>\n",
       "    <tr>\n",
       "      <th>1403686</th>\n",
       "      <td>1403687</td>\n",
       "      <td>What sort of errors can lead to session data b...</td>\n",
       "      <td>&lt;p&gt;I'm experiencing a strange error with my ca...</td>\n",
       "      <td>php session cakephp load-balancing</td>\n",
       "    </tr>\n",
       "    <tr>\n",
       "      <th>2470612</th>\n",
       "      <td>2470613</td>\n",
       "      <td>Convert nmake makefile into Visual Studio 2005...</td>\n",
       "      <td>&lt;p&gt;We have some old C code here that's built w...</td>\n",
       "      <td>c visual-studio-2005 nmake</td>\n",
       "    </tr>\n",
       "    <tr>\n",
       "      <th>309905</th>\n",
       "      <td>309906</td>\n",
       "      <td>HUGE query execution time difference between o...</td>\n",
       "      <td>&lt;p&gt;I'm running the following query:&lt;/p&gt;\\n\\n&lt;pr...</td>\n",
       "      <td>oracle query-optimization data-dictionary</td>\n",
       "    </tr>\n",
       "    <tr>\n",
       "      <th>4079679</th>\n",
       "      <td>4079680</td>\n",
       "      <td>Image on start up / loading</td>\n",
       "      <td>&lt;p&gt;I ma developing an app, which at the moment...</td>\n",
       "      <td>android image loading oncreate</td>\n",
       "    </tr>\n",
       "  </tbody>\n",
       "</table>\n",
       "</div>"
      ],
      "text/plain": [
       "              Id                                              Title  \\\n",
       "2530000  2530001       SQL Filtering based on Calculated Time Slots   \n",
       "1403686  1403687  What sort of errors can lead to session data b...   \n",
       "2470612  2470613  Convert nmake makefile into Visual Studio 2005...   \n",
       "309905    309906  HUGE query execution time difference between o...   \n",
       "4079679  4079680                        Image on start up / loading   \n",
       "\n",
       "                                                      Body  \\\n",
       "2530000  <p>Im making a simple booking system for our p...   \n",
       "1403686  <p>I'm experiencing a strange error with my ca...   \n",
       "2470612  <p>We have some old C code here that's built w...   \n",
       "309905   <p>I'm running the following query:</p>\\n\\n<pr...   \n",
       "4079679  <p>I ma developing an app, which at the moment...   \n",
       "\n",
       "                                              Tags  \n",
       "2530000      sql sql-server asp.net-mvc query tsql  \n",
       "1403686         php session cakephp load-balancing  \n",
       "2470612                 c visual-studio-2005 nmake  \n",
       "309905   oracle query-optimization data-dictionary  \n",
       "4079679             android image loading oncreate  "
      ]
     },
     "execution_count": 12,
     "metadata": {},
     "output_type": "execute_result"
    }
   ],
   "source": [
    "train.head()"
   ]
  },
  {
   "cell_type": "code",
   "execution_count": 13,
   "metadata": {},
   "outputs": [
    {
     "data": {
      "text/plain": [
       "(240000, 4)"
      ]
     },
     "execution_count": 13,
     "metadata": {},
     "output_type": "execute_result"
    }
   ],
   "source": [
    "train.shape"
   ]
  },
  {
   "cell_type": "code",
   "execution_count": 14,
   "metadata": {},
   "outputs": [],
   "source": [
    "train = train.drop_duplicates()"
   ]
  },
  {
   "cell_type": "code",
   "execution_count": 15,
   "metadata": {},
   "outputs": [],
   "source": [
    "train = train.dropna()"
   ]
  },
  {
   "cell_type": "code",
   "execution_count": 16,
   "metadata": {},
   "outputs": [
    {
     "data": {
      "text/plain": [
       "(239999, 4)"
      ]
     },
     "execution_count": 16,
     "metadata": {},
     "output_type": "execute_result"
    }
   ],
   "source": [
    "train.shape"
   ]
  },
  {
   "cell_type": "code",
   "execution_count": 17,
   "metadata": {},
   "outputs": [],
   "source": [
    "from sklearn.feature_extraction.text import CountVectorizer"
   ]
  },
  {
   "cell_type": "code",
   "execution_count": 251,
   "metadata": {},
   "outputs": [],
   "source": [
    "labels = train.Tags"
   ]
  },
  {
   "cell_type": "code",
   "execution_count": 20,
   "metadata": {},
   "outputs": [],
   "source": [
    "# labels = labels.map(lambda x: x.split())"
   ]
  },
  {
   "cell_type": "code",
   "execution_count": null,
   "metadata": {},
   "outputs": [],
   "source": [
    "count_vectorizer = CountVectorizer(max_features=500, token_pattern = '[a-zA-Z0-9$&+,:;=?@#|<>.^*()%!-]+')\n",
    "labels_transformed = count_vectorizer.fit_transform(labels.values)"
   ]
  },
  {
   "cell_type": "code",
   "execution_count": 60,
   "metadata": {},
   "outputs": [
    {
     "data": {
      "text/plain": [
       "array(['sql sql-server asp.net-mvc query tsql',\n",
       "       'php session cakephp load-balancing', 'c visual-studio-2005 nmake',\n",
       "       ..., 'php mysql', 'ubuntu sendmail', 'javascript html css object'],\n",
       "      dtype=object)"
      ]
     },
     "execution_count": 60,
     "metadata": {},
     "output_type": "execute_result"
    }
   ],
   "source": [
    "labels.values"
   ]
  },
  {
   "cell_type": "code",
   "execution_count": 61,
   "metadata": {},
   "outputs": [],
   "source": [
    "labels_transformed = count_vectorizer.fit_transform(labels.values)"
   ]
  },
  {
   "cell_type": "code",
   "execution_count": 62,
   "metadata": {},
   "outputs": [
    {
     "data": {
      "text/plain": [
       "(239999, 500)"
      ]
     },
     "execution_count": 62,
     "metadata": {},
     "output_type": "execute_result"
    }
   ],
   "source": [
    "labels_transformed.shape"
   ]
  },
  {
   "cell_type": "code",
   "execution_count": 63,
   "metadata": {},
   "outputs": [
    {
     "data": {
      "text/plain": [
       "array([394, 395,  35, ..., 199,  98, 309])"
      ]
     },
     "execution_count": 63,
     "metadata": {},
     "output_type": "execute_result"
    }
   ],
   "source": [
    "labels_transformed.indices"
   ]
  },
  {
   "cell_type": "code",
   "execution_count": 64,
   "metadata": {},
   "outputs": [
    {
     "data": {
      "text/plain": [
       "<239999x500 sparse matrix of type '<class 'numpy.int64'>'\n",
       "\twith 428014 stored elements in Compressed Sparse Row format>"
      ]
     },
     "execution_count": 64,
     "metadata": {},
     "output_type": "execute_result"
    }
   ],
   "source": [
    "labels_transformed"
   ]
  },
  {
   "cell_type": "code",
   "execution_count": 65,
   "metadata": {},
   "outputs": [],
   "source": [
    "features = count_vectorizer.get_feature_names()"
   ]
  },
  {
   "cell_type": "code",
   "execution_count": 66,
   "metadata": {},
   "outputs": [],
   "source": [
    "count = labels_transformed.sum(axis=0)"
   ]
  },
  {
   "cell_type": "code",
   "execution_count": 67,
   "metadata": {},
   "outputs": [
    {
     "data": {
      "text/plain": [
       "(1, 500)"
      ]
     },
     "execution_count": 67,
     "metadata": {},
     "output_type": "execute_result"
    }
   ],
   "source": [
    "count.shape"
   ]
  },
  {
   "cell_type": "code",
   "execution_count": 68,
   "metadata": {},
   "outputs": [],
   "source": [
    "count = count.tolist()[0]"
   ]
  },
  {
   "cell_type": "code",
   "execution_count": 69,
   "metadata": {},
   "outputs": [],
   "source": [
    "mapping = dict(zip(features, count))"
   ]
  },
  {
   "cell_type": "code",
   "execution_count": 70,
   "metadata": {},
   "outputs": [],
   "source": [
    "mapping = {k:v for k, v in sorted(mapping.items(), key=lambda item: item[1], reverse=True)}"
   ]
  },
  {
   "cell_type": "code",
   "execution_count": 71,
   "metadata": {},
   "outputs": [],
   "source": [
    "import matplotlib.pyplot as plt"
   ]
  },
  {
   "cell_type": "code",
   "execution_count": 72,
   "metadata": {},
   "outputs": [
    {
     "data": {
      "text/plain": [
       "[<matplotlib.lines.Line2D at 0x1e401fc4048>]"
      ]
     },
     "execution_count": 72,
     "metadata": {},
     "output_type": "execute_result"
    },
    {
     "data": {
      "image/png": "[encoded data removed]",
      "text/plain": [
       "<Figure size 432x288 with 1 Axes>"
      ]
     },
     "metadata": {
      "needs_background": "light"
     },
     "output_type": "display_data"
    }
   ],
   "source": [
    "plt.plot(list(mapping.values())[:500])"
   ]
  },
  {
   "cell_type": "code",
   "execution_count": 73,
   "metadata": {},
   "outputs": [],
   "source": [
    "threshold = 1000"
   ]
  },
  {
   "cell_type": "code",
   "execution_count": 74,
   "metadata": {},
   "outputs": [],
   "source": [
    "mapping = {k: v for k, v in mapping.items() if v >= threshold}"
   ]
  },
  {
   "cell_type": "code",
   "execution_count": null,
   "metadata": {},
   "outputs": [],
   "source": [
    "mapping"
   ]
  },
  {
   "cell_type": "code",
   "execution_count": 76,
   "metadata": {},
   "outputs": [
    {
     "data": {
      "text/plain": [
       "[<matplotlib.lines.Line2D at 0x1e402444048>]"
      ]
     },
     "execution_count": 76,
     "metadata": {},
     "output_type": "execute_result"
    },
    {
     "data": {
      "image/png": "[encoded data removed]",
      "text/plain": [
       "<Figure size 432x288 with 1 Axes>"
      ]
     },
     "metadata": {
      "needs_background": "light"
     },
     "output_type": "display_data"
    }
   ],
   "source": [
    "plt.plot(list(mapping.values()))"
   ]
  },
  {
   "cell_type": "code",
   "execution_count": 77,
   "metadata": {},
   "outputs": [
    {
     "data": {
      "text/plain": [
       "<matplotlib.image.AxesImage at 0x1e40211b1d0>"
      ]
     },
     "execution_count": 77,
     "metadata": {},
     "output_type": "execute_result"
    },
    {
     "data": {
      "image/png": "[encoded data removed]",
      "text/plain": [
       "<Figure size 864x576 with 1 Axes>"
      ]
     },
     "metadata": {
      "needs_background": "light"
     },
     "output_type": "display_data"
    }
   ],
   "source": [
    "from PIL import Image\n",
    "import matplotlib.pyplot as plt\n",
    "from wordcloud import WordCloud\n",
    "\n",
    "plt.figure(figsize=(12, 8))\n",
    "wc = WordCloud(background_color=\"white\",width=1000,height=1000, max_words=500,relative_scaling=0.5,normalize_plurals=False).generate_from_frequencies(mapping)\n",
    "plt.imshow(wc)"
   ]
  },
  {
   "cell_type": "code",
   "execution_count": 78,
   "metadata": {},
   "outputs": [],
   "source": [
    "top_20_tags = list(mapping.items())[:20]"
   ]
  },
  {
   "cell_type": "code",
   "execution_count": 79,
   "metadata": {},
   "outputs": [],
   "source": [
    "top_20_counts = [tag[1] for tag in top_20_tags]\n",
    "top_20_words = [tag[0] for tag in top_20_tags]"
   ]
  },
  {
   "cell_type": "code",
   "execution_count": 80,
   "metadata": {},
   "outputs": [
    {
     "data": {
      "image/png": "[encoded data removed]",
      "text/plain": [
       "<Figure size 432x288 with 1 Axes>"
      ]
     },
     "metadata": {
      "needs_background": "light"
     },
     "output_type": "display_data"
    }
   ],
   "source": [
    "plt.plot(top_20_counts)\n",
    "plt.xticks(range(20), top_20_words, rotation='vertical')\n",
    "plt.show()"
   ]
  },
  {
   "cell_type": "code",
   "execution_count": 85,
   "metadata": {},
   "outputs": [],
   "source": [
    "titles = train.Title.values\n",
    "bodies = train.Body.values\n",
    "tags = train.Tags.values"
   ]
  },
  {
   "cell_type": "code",
   "execution_count": 109,
   "metadata": {},
   "outputs": [
    {
     "data": {
      "text/html": [
       "<div>\n",
       "<style scoped>\n",
       "    .dataframe tbody tr th:only-of-type {\n",
       "        vertical-align: middle;\n",
       "    }\n",
       "\n",
       "    .dataframe tbody tr th {\n",
       "        vertical-align: top;\n",
       "    }\n",
       "\n",
       "    .dataframe thead th {\n",
       "        text-align: right;\n",
       "    }\n",
       "</style>\n",
       "<table border=\"1\" class=\"dataframe\">\n",
       "  <thead>\n",
       "    <tr style=\"text-align: right;\">\n",
       "      <th></th>\n",
       "      <th>Id</th>\n",
       "      <th>Title</th>\n",
       "      <th>Body</th>\n",
       "      <th>Tags</th>\n",
       "    </tr>\n",
       "  </thead>\n",
       "  <tbody>\n",
       "    <tr>\n",
       "      <th>2530000</th>\n",
       "      <td>2530001</td>\n",
       "      <td>SQL Filtering based on Calculated Time Slots</td>\n",
       "      <td>&lt;p&gt;Im making a simple booking system for our p...</td>\n",
       "      <td>sql sql-server asp.net-mvc query tsql</td>\n",
       "    </tr>\n",
       "    <tr>\n",
       "      <th>1403686</th>\n",
       "      <td>1403687</td>\n",
       "      <td>What sort of errors can lead to session data b...</td>\n",
       "      <td>&lt;p&gt;I'm experiencing a strange error with my ca...</td>\n",
       "      <td>php session cakephp load-balancing</td>\n",
       "    </tr>\n",
       "  </tbody>\n",
       "</table>\n",
       "</div>"
      ],
      "text/plain": [
       "              Id                                              Title  \\\n",
       "2530000  2530001       SQL Filtering based on Calculated Time Slots   \n",
       "1403686  1403687  What sort of errors can lead to session data b...   \n",
       "\n",
       "                                                      Body  \\\n",
       "2530000  <p>Im making a simple booking system for our p...   \n",
       "1403686  <p>I'm experiencing a strange error with my ca...   \n",
       "\n",
       "                                          Tags  \n",
       "2530000  sql sql-server asp.net-mvc query tsql  \n",
       "1403686     php session cakephp load-balancing  "
      ]
     },
     "execution_count": 109,
     "metadata": {},
     "output_type": "execute_result"
    }
   ],
   "source": [
    "train.head(2)"
   ]
  },
  {
   "cell_type": "code",
   "execution_count": 87,
   "metadata": {},
   "outputs": [
    {
     "name": "stdout",
     "output_type": "stream",
     "text": [
      "<p>I'm experiencing a strange error with my cakePHP application. The users to this application occasionally are authenticated incorrectly and are able to view a different user's profile information on their page. I know this is a very open ended question, and without code should be hard to get a specific answer, but I'm wondering what sort of general problems could lead to this sort of behavior, and if anyone on SO could lead me in the right direction. It seems like it should be a common enough problem, but I can't find any literature about it.</p>\n",
      "\n",
      "<p>My application is behind a load balancer, which might have the potential for weird behavior with the session, but I'm under the impression that this is not the case.</p>\n",
      "\n"
     ]
    }
   ],
   "source": [
    "print(bodies[1])"
   ]
  },
  {
   "cell_type": "code",
   "execution_count": 89,
   "metadata": {},
   "outputs": [],
   "source": [
    "vocab = np.hstack([titles, bodies])"
   ]
  },
  {
   "cell_type": "code",
   "execution_count": 90,
   "metadata": {},
   "outputs": [],
   "source": [
    "from tensorflow.keras.preprocessing.text import Tokenizer"
   ]
  },
  {
   "cell_type": "code",
   "execution_count": 111,
   "metadata": {},
   "outputs": [],
   "source": [
    "tokenizer_titles = Tokenizer()\n",
    "tokenizer_bodies = Tokenizer()"
   ]
  },
  {
   "cell_type": "code",
   "execution_count": 137,
   "metadata": {},
   "outputs": [],
   "source": [
    "tokenizer_titles.fit_on_texts(titles.tolist())\n",
    "tokenizer_bodies.fit_on_texts(bodies.tolist())"
   ]
  },
  {
   "cell_type": "code",
   "execution_count": 127,
   "metadata": {},
   "outputs": [],
   "source": [
    "from tensorflow.keras.preprocessing.sequence import pad_sequences"
   ]
  },
  {
   "cell_type": "code",
   "execution_count": 147,
   "metadata": {},
   "outputs": [],
   "source": [
    "titles_encoded = tokenizer_titles.texts_to_sequences(titles)\n",
    "bodies_encoded = tokenizer_bodies.texts_to_sequences(bodies)"
   ]
  },
  {
   "cell_type": "code",
   "execution_count": 148,
   "metadata": {},
   "outputs": [],
   "source": [
    "MAX_LEN_titles = 20\n",
    "MAX_LEN_bodies = 100"
   ]
  },
  {
   "cell_type": "code",
   "execution_count": 149,
   "metadata": {},
   "outputs": [],
   "source": [
    "titles_padded = pad_sequences(titles_encoded, maxlen=MAX_LEN_titles)\n",
    "bodies_padded = pad_sequences(bodies_encoded, maxlen=MAX_LEN_bodies)"
   ]
  },
  {
   "cell_type": "code",
   "execution_count": 116,
   "metadata": {},
   "outputs": [],
   "source": [
    "from tensorflow.keras import layers\n",
    "from tensorflow import keras"
   ]
  },
  {
   "cell_type": "code",
   "execution_count": 141,
   "metadata": {},
   "outputs": [],
   "source": [
    "words_titles = len(tokenizer_titles.word_counts)+1\n",
    "words_bodies = len(tokenizer_bodies.word_counts)+1"
   ]
  },
  {
   "cell_type": "code",
   "execution_count": 145,
   "metadata": {},
   "outputs": [],
   "source": [
    "num_tags = 100"
   ]
  },
  {
   "cell_type": "code",
   "execution_count": 154,
   "metadata": {},
   "outputs": [
    {
     "data": {
      "text/plain": [
       "20"
      ]
     },
     "execution_count": 154,
     "metadata": {},
     "output_type": "execute_result"
    }
   ],
   "source": [
    "MAX_LEN_titles"
   ]
  },
  {
   "cell_type": "code",
   "execution_count": 155,
   "metadata": {},
   "outputs": [
    {
     "data": {
      "text/plain": [
       "100"
      ]
     },
     "execution_count": 155,
     "metadata": {},
     "output_type": "execute_result"
    }
   ],
   "source": [
    "MAX_LEN_bodies"
   ]
  },
  {
   "cell_type": "code",
   "execution_count": null,
   "metadata": {},
   "outputs": [],
   "source": [
    "count_vectorizer = CountVectorizer(max_features=num_tags, token_pattern = '[a-zA-Z0-9$&+,:;=?@#|<>.^*()%!-]+')\n",
    "labels_transformed = count_vectorizer.fit_transform(labels.values)"
   ]
  },
  {
   "cell_type": "code",
   "execution_count": 237,
   "metadata": {},
   "outputs": [],
   "source": [
    "title_input = keras.Input(shape=(MAX_LEN_titles))\n",
    "bodies_input = keras.Input(shape=(MAX_LEN_bodies))\n",
    "\n",
    "embedding_titles = layers.Embedding(input_dim=words_titles, output_dim=64)(title_input)\n",
    "embedding_bodies = layers.Embedding(input_dim=words_bodies, output_dim=64)(bodies_input)\n",
    "\n",
    "lstm_titles = layers.LSTM(16)(embedding_titles)\n",
    "lstm_bodies = layers.LSTM(32)(embedding_bodies)\n",
    "\n",
    "concat = layers.concatenate([lstm_titles, lstm_bodies])\n",
    "\n",
    "dense = layers.Dense(256, activation='relu')(concat)\n",
    "drop = layers.Dropout(0.5)(dense)\n",
    "tags = layers.Dense(num_tags, activation='sigmoid')(drop)"
   ]
  },
  {
   "cell_type": "code",
   "execution_count": 238,
   "metadata": {},
   "outputs": [],
   "source": [
    "model = keras.Model(\n",
    "    inputs=[title_input, bodies_input],\n",
    "    outputs=[tags],\n",
    ")"
   ]
  },
  {
   "cell_type": "code",
   "execution_count": 218,
   "metadata": {},
   "outputs": [],
   "source": [
    "labels_vec = labels_transformed.toarray()"
   ]
  },
  {
   "cell_type": "code",
   "execution_count": 219,
   "metadata": {},
   "outputs": [],
   "source": [
    "import tensorflow_addons as tfa\n",
    "from tensorflow_addons.metrics.hamming import hamming_loss_fn, HammingLoss\n",
    "from sklearn.metrics import hamming_loss"
   ]
  },
  {
   "cell_type": "code",
   "execution_count": 220,
   "metadata": {},
   "outputs": [],
   "source": [
    "hl = HammingLoss(mode='multilabel', threshold=0.8)"
   ]
  },
  {
   "cell_type": "code",
   "execution_count": 221,
   "metadata": {},
   "outputs": [],
   "source": [
    "labels_vec = labels_vec.astype(np.float32)"
   ]
  },
  {
   "cell_type": "code",
   "execution_count": 222,
   "metadata": {},
   "outputs": [],
   "source": [
    "def hamming_loss2(y_true, y_pred, mode='multilabel'):\n",
    "    if mode not in ['multiclass', 'multilabel']:\n",
    "        raise TypeError('mode must be: [None, multilabel])')\n",
    "\n",
    "    if mode == 'multiclass':\n",
    "        nonzero = tf.cast(tf.math.count_nonzero(y_true * y_pred, axis=-1), tf.float32)\n",
    "        return 1.0 - nonzero\n",
    "\n",
    "    else:\n",
    "        nonzero = tf.cast(tf.math.count_nonzero(y_true - y_pred, axis=-1), \n",
    "            tf.float32)\n",
    "        return nonzero / y_true.get_shape()[-1]"
   ]
  },
  {
   "cell_type": "code",
   "execution_count": 223,
   "metadata": {},
   "outputs": [],
   "source": [
    "# model.compile(\n",
    "#     optimizer=keras.optimizers.RMSprop(1e-3),\n",
    "#     loss=[\n",
    "#         hamming_loss2,\n",
    "#     ]\n",
    "# )"
   ]
  },
  {
   "cell_type": "code",
   "execution_count": 224,
   "metadata": {},
   "outputs": [],
   "source": [
    "hl = HammingLoss(mode='multilabel', threshold=0.8)"
   ]
  },
  {
   "cell_type": "code",
   "execution_count": 225,
   "metadata": {},
   "outputs": [],
   "source": [
    "from functools import partial"
   ]
  },
  {
   "cell_type": "code",
   "execution_count": 226,
   "metadata": {},
   "outputs": [],
   "source": [
    "phamming = partial(hamming_loss_fn, mode='multilabel', threshold=0.8)"
   ]
  },
  {
   "cell_type": "code",
   "execution_count": 239,
   "metadata": {},
   "outputs": [],
   "source": [
    "model.compile(\n",
    "    optimizer=keras.optimizers.RMSprop(1e-3),\n",
    "    loss=[\n",
    "        'binary_crossentropy',\n",
    "    ],\n",
    "    metrics = [keras.metrics.Precision(name='precision'),\n",
    "              keras.metrics.Recall(name='recall'),\n",
    "              keras.metrics.AUC(name='auc'),\n",
    "              ]\n",
    "    \n",
    ")"
   ]
  },
  {
   "cell_type": "code",
   "execution_count": 240,
   "metadata": {},
   "outputs": [
    {
     "name": "stdout",
     "output_type": "stream",
     "text": [
      "Epoch 1/2\n",
      "6000/6000 [==============================] - 1492s 249ms/step - loss: 0.0478 - precision: 0.7551 - recall: 0.0965 - auc: 0.8573 - val_loss: 0.0381 - val_precision: 0.8522 - val_recall: 0.1656 - val_auc: 0.9145\n",
      "Epoch 2/2\n",
      "6000/6000 [==============================] - 1462s 244ms/step - loss: 0.0376 - precision: 0.8128 - recall: 0.1981 - auc: 0.9161 - val_loss: 0.0350 - val_precision: 0.8259 - val_recall: 0.2214 - val_auc: 0.9229\n"
     ]
    }
   ],
   "source": [
    "history = model.fit([titles_padded, bodies_padded], labels_vec, epochs=2, batch_size=32, validation_split=0.2)"
   ]
  },
  {
   "cell_type": "code",
   "execution_count": 242,
   "metadata": {},
   "outputs": [],
   "source": [
    "test = pd.read_hdf(r'datasets\\dummy_test.h5', key='df')"
   ]
  },
  {
   "cell_type": "code",
   "execution_count": 243,
   "metadata": {},
   "outputs": [
    {
     "data": {
      "text/html": [
       "<div>\n",
       "<style scoped>\n",
       "    .dataframe tbody tr th:only-of-type {\n",
       "        vertical-align: middle;\n",
       "    }\n",
       "\n",
       "    .dataframe tbody tr th {\n",
       "        vertical-align: top;\n",
       "    }\n",
       "\n",
       "    .dataframe thead th {\n",
       "        text-align: right;\n",
       "    }\n",
       "</style>\n",
       "<table border=\"1\" class=\"dataframe\">\n",
       "  <thead>\n",
       "    <tr style=\"text-align: right;\">\n",
       "      <th></th>\n",
       "      <th>Id</th>\n",
       "      <th>Title</th>\n",
       "      <th>Body</th>\n",
       "      <th>Tags</th>\n",
       "    </tr>\n",
       "  </thead>\n",
       "  <tbody>\n",
       "    <tr>\n",
       "      <th>1052590</th>\n",
       "      <td>1052591</td>\n",
       "      <td>Is there anyway to use MySQL's LOAD XML LOCAL ...</td>\n",
       "      <td>&lt;p&gt;with this type of XML format?&lt;/p&gt;\\n\\n&lt;pre&gt;&lt;...</td>\n",
       "      <td>mysql xml load local infile</td>\n",
       "    </tr>\n",
       "    <tr>\n",
       "      <th>4841054</th>\n",
       "      <td>4841055</td>\n",
       "      <td>GPO refresh error - Policy Refresh has not com...</td>\n",
       "      <td>&lt;p&gt;I'm having problem with my GPO changes, tha...</td>\n",
       "      <td>windows windows-server-2003 active-directory g...</td>\n",
       "    </tr>\n",
       "    <tr>\n",
       "      <th>541743</th>\n",
       "      <td>541744</td>\n",
       "      <td>UAC thinks my Application is an installer Part 2</td>\n",
       "      <td>&lt;p&gt;I have been trying to deal with the Windows...</td>\n",
       "      <td>installer windows-server-2003 uac manifest</td>\n",
       "    </tr>\n",
       "    <tr>\n",
       "      <th>5006435</th>\n",
       "      <td>5006436</td>\n",
       "      <td>Poor performance when holding down accelerator...</td>\n",
       "      <td>&lt;p&gt;I have bound a menu item to invoke the undo...</td>\n",
       "      <td>java performance swing hotkeys accelerator</td>\n",
       "    </tr>\n",
       "    <tr>\n",
       "      <th>4822115</th>\n",
       "      <td>4822116</td>\n",
       "      <td>How do I configure/make/install against an old...</td>\n",
       "      <td>&lt;p&gt;I'm trying to install a piece of software (...</td>\n",
       "      <td>linux osx unix make compilation</td>\n",
       "    </tr>\n",
       "  </tbody>\n",
       "</table>\n",
       "</div>"
      ],
      "text/plain": [
       "              Id                                              Title  \\\n",
       "1052590  1052591  Is there anyway to use MySQL's LOAD XML LOCAL ...   \n",
       "4841054  4841055  GPO refresh error - Policy Refresh has not com...   \n",
       "541743    541744   UAC thinks my Application is an installer Part 2   \n",
       "5006435  5006436  Poor performance when holding down accelerator...   \n",
       "4822115  4822116  How do I configure/make/install against an old...   \n",
       "\n",
       "                                                      Body  \\\n",
       "1052590  <p>with this type of XML format?</p>\\n\\n<pre><...   \n",
       "4841054  <p>I'm having problem with my GPO changes, tha...   \n",
       "541743   <p>I have been trying to deal with the Windows...   \n",
       "5006435  <p>I have bound a menu item to invoke the undo...   \n",
       "4822115  <p>I'm trying to install a piece of software (...   \n",
       "\n",
       "                                                      Tags  \n",
       "1052590                        mysql xml load local infile  \n",
       "4841054  windows windows-server-2003 active-directory g...  \n",
       "541743          installer windows-server-2003 uac manifest  \n",
       "5006435         java performance swing hotkeys accelerator  \n",
       "4822115                    linux osx unix make compilation  "
      ]
     },
     "execution_count": 243,
     "metadata": {},
     "output_type": "execute_result"
    }
   ],
   "source": [
    "test.head()"
   ]
  },
  {
   "cell_type": "code",
   "execution_count": 253,
   "metadata": {},
   "outputs": [],
   "source": [
    "count_vectorizer = CountVectorizer(max_features=num_tags, token_pattern = '[a-zA-Z0-9$&+,:;=?@#|<>.^*()%!-]+')\n",
    "labels_transformed = count_vectorizer.fit_transform(labels.values)"
   ]
  },
  {
   "cell_type": "code",
   "execution_count": 244,
   "metadata": {},
   "outputs": [],
   "source": [
    "y_test = test.Tags"
   ]
  },
  {
   "cell_type": "code",
   "execution_count": 254,
   "metadata": {},
   "outputs": [],
   "source": [
    "y_test = count_vectorizer.transform(y_test.values)"
   ]
  },
  {
   "cell_type": "code",
   "execution_count": 255,
   "metadata": {},
   "outputs": [],
   "source": [
    "test_titles = test.Title.values\n",
    "test_bodies = test.Body.values"
   ]
  },
  {
   "cell_type": "code",
   "execution_count": 256,
   "metadata": {},
   "outputs": [],
   "source": [
    "test_titles = tokenizer_titles.texts_to_sequences(test_titles)\n",
    "test_bodies = tokenizer_bodies.texts_to_sequences(test_bodies)"
   ]
  },
  {
   "cell_type": "code",
   "execution_count": 257,
   "metadata": {},
   "outputs": [],
   "source": [
    "test_titles = pad_sequences(test_titles, maxlen=MAX_LEN_titles)\n",
    "test_bodies = pad_sequences(test_bodies, maxlen=MAX_LEN_bodies)"
   ]
  },
  {
   "cell_type": "code",
   "execution_count": 260,
   "metadata": {},
   "outputs": [],
   "source": [
    "y_labels = y_test.toarray()"
   ]
  },
  {
   "cell_type": "code",
   "execution_count": 261,
   "metadata": {},
   "outputs": [
    {
     "name": "stdout",
     "output_type": "stream",
     "text": [
      "1875/1875 [==============================] - 10s 5ms/step - loss: 0.0353 - precision: 0.8298 - recall: 0.2203 - auc: 0.9225\n"
     ]
    },
    {
     "data": {
      "text/plain": [
       "[0.03526732325553894,\n",
       " 0.8298198580741882,\n",
       " 0.22033612430095673,\n",
       " 0.9225457906723022]"
      ]
     },
     "execution_count": 261,
     "metadata": {},
     "output_type": "execute_result"
    }
   ],
   "source": [
    "model.evaluate([test_titles, test_bodies], y_labels)"
   ]
  },
  {
   "cell_type": "code",
   "execution_count": 263,
   "metadata": {},
   "outputs": [],
   "source": [
    "a = model.predict([test_titles[:2], test_bodies[:2]])"
   ]
  },
  {
   "cell_type": "code",
   "execution_count": 266,
   "metadata": {},
   "outputs": [
    {
     "data": {
      "text/plain": [
       "(100,)"
      ]
     },
     "execution_count": 266,
     "metadata": {},
     "output_type": "execute_result"
    }
   ],
   "source": [
    "a[1].shape"
   ]
  },
  {
   "cell_type": "code",
   "execution_count": 267,
   "metadata": {},
   "outputs": [
    {
     "data": {
      "text/plain": [
       "0.83449024"
      ]
     },
     "execution_count": 267,
     "metadata": {},
     "output_type": "execute_result"
    }
   ],
   "source": [
    "a[0].sum()"
   ]
  },
  {
   "cell_type": "code",
   "execution_count": 264,
   "metadata": {},
   "outputs": [
    {
     "data": {
      "text/plain": [
       "array([[0.00718424, 0.00594637, 0.00959061, 0.00365167, 0.00166285,\n",
       "        0.00731318, 0.01337482, 0.01384696, 0.00701527, 0.00739616,\n",
       "        0.00725046, 0.00254973, 0.00133239, 0.00384083, 0.00147757,\n",
       "        0.02098291, 0.001426  , 0.00111864, 0.00059226, 0.00132645,\n",
       "        0.01786144, 0.00322755, 0.00223436, 0.00465925, 0.01776487,\n",
       "        0.00082463, 0.00525453, 0.00674454, 0.00293122, 0.0017031 ,\n",
       "        0.01039312, 0.00732048, 0.00392562, 0.00202317, 0.00152655,\n",
       "        0.00771669, 0.0014986 , 0.01010236, 0.00187979, 0.00709753,\n",
       "        0.0027952 , 0.00086522, 0.00318694, 0.00077387, 0.00369275,\n",
       "        0.05015795, 0.01822655, 0.00497737, 0.00035632, 0.00563828,\n",
       "        0.00083686, 0.01528627, 0.00115929, 0.00131075, 0.01842277,\n",
       "        0.00393211, 0.00447604, 0.00258893, 0.00189547, 0.003303  ,\n",
       "        0.00819276, 0.00678587, 0.0053345 , 0.15512003, 0.01167346,\n",
       "        0.00379423, 0.0015087 , 0.00766095, 0.03065283, 0.03697919,\n",
       "        0.01077668, 0.01413924, 0.00263043, 0.00049298, 0.01112993,\n",
       "        0.01140556, 0.0039932 , 0.00111433, 0.00160173, 0.00667811,\n",
       "        0.00289441, 0.00311087, 0.00143733, 0.00121898, 0.00625243,\n",
       "        0.00214141, 0.00247031, 0.00163321, 0.00067876, 0.0006553 ,\n",
       "        0.00065368, 0.0073954 , 0.00725889, 0.00221412, 0.0011028 ,\n",
       "        0.00050065, 0.01069018, 0.00026904, 0.00160104, 0.06919598],\n",
       "       [0.00023604, 0.027929  , 0.00078818, 0.00045153, 0.00589118,\n",
       "        0.00296504, 0.00049741, 0.0007067 , 0.00111635, 0.0021376 ,\n",
       "        0.00626871, 0.00132845, 0.0008469 , 0.0029358 , 0.04764438,\n",
       "        0.06195852, 0.10337558, 0.00226852, 0.00126921, 0.00101792,\n",
       "        0.0038743 , 0.00457019, 0.00131292, 0.00100349, 0.0014731 ,\n",
       "        0.0011138 , 0.00577435, 0.00038878, 0.00278402, 0.00096534,\n",
       "        0.0007945 , 0.00055779, 0.00059838, 0.00243183, 0.00076864,\n",
       "        0.0004066 , 0.01120795, 0.0016242 , 0.00059067, 0.00095967,\n",
       "        0.00158044, 0.00102819, 0.00511051, 0.00133318, 0.00583533,\n",
       "        0.00758438, 0.00347625, 0.00080315, 0.0003467 , 0.00041466,\n",
       "        0.0011643 , 0.02676504, 0.00227552, 0.00535313, 0.00171748,\n",
       "        0.01148968, 0.00077903, 0.00618709, 0.0012795 , 0.00260973,\n",
       "        0.01240448, 0.01044829, 0.00144749, 0.00267084, 0.01156393,\n",
       "        0.00102426, 0.00392858, 0.00075584, 0.00470964, 0.00365683,\n",
       "        0.00145586, 0.0047944 , 0.00261247, 0.00248173, 0.00031239,\n",
       "        0.00741719, 0.00792273, 0.00195798, 0.00275188, 0.00096191,\n",
       "        0.00268952, 0.00215477, 0.00053507, 0.00178861, 0.00543945,\n",
       "        0.00216788, 0.00279313, 0.00499664, 0.01045126, 0.01132493,\n",
       "        0.00154168, 0.00134542, 0.05408186, 0.01843874, 0.00805595,\n",
       "        0.00411342, 0.00028673, 0.00337744, 0.0033825 , 0.00158994]],\n",
       "      dtype=float32)"
      ]
     },
     "execution_count": 264,
     "metadata": {},
     "output_type": "execute_result"
    }
   ],
   "source": [
    "a"
   ]
  },
  {
   "cell_type": "code",
   "execution_count": null,
   "metadata": {},
   "outputs": [],
   "source": []
  },
  {
   "cell_type": "code",
   "execution_count": null,
   "metadata": {},
   "outputs": [],
   "source": []
  },
  {
   "cell_type": "code",
   "execution_count": null,
   "metadata": {},
   "outputs": [],
   "source": []
  },
  {
   "cell_type": "code",
   "execution_count": null,
   "metadata": {},
   "outputs": [],
   "source": []
  },
  {
   "cell_type": "code",
   "execution_count": null,
   "metadata": {},
   "outputs": [],
   "source": []
  },
  {
   "cell_type": "code",
   "execution_count": 108,
   "metadata": {},
   "outputs": [],
   "source": [
    "num_tags = 12  # Number of unique issue tags\n",
    "num_words = 10000  # Size of vocabulary obtained when preprocessing text data\n",
    "num_departments = 4  # Number of departments for predictions\n",
    "\n",
    "title_input = keras.Input(\n",
    "    shape=(None,), name=\"title\"\n",
    ")  # Variable-length sequence of ints\n",
    "body_input = keras.Input(shape=(None,), name=\"body\")  # Variable-length sequence of ints\n",
    "tags_input = keras.Input(\n",
    "    shape=(num_tags,), name=\"tags\"\n",
    ")  # Binary vectors of size `num_tags`\n",
    "\n",
    "# Embed each word in the title into a 64-dimensional vector\n",
    "title_features = layers.Embedding(num_words, 64)(title_input)\n",
    "# Embed each word in the text into a 64-dimensional vector\n",
    "body_features = layers.Embedding(num_words, 64)(body_input)\n",
    "\n",
    "# Reduce sequence of embedded words in the title into a single 128-dimensional vector\n",
    "title_features = layers.LSTM(128)(title_features)\n",
    "# Reduce sequence of embedded words in the body into a single 32-dimensional vector\n",
    "body_features = layers.LSTM(32)(body_features)\n",
    "\n",
    "# Merge all available features into a single large vector via concatenation\n",
    "x = layers.concatenate([title_features, body_features, tags_input])\n",
    "\n",
    "# Stick a logistic regression for priority prediction on top of the features\n",
    "priority_pred = layers.Dense(1, name=\"priority\")(x)\n",
    "# Stick a department classifier on top of the features\n",
    "department_pred = layers.Dense(num_departments, name=\"department\")(x)\n",
    "\n",
    "# Instantiate an end-to-end model predicting both priority and department\n",
    "model = keras.Model(\n",
    "    inputs=[title_input, body_input, tags_input],\n",
    "    outputs=[priority_pred, department_pred],\n",
    ")"
   ]
  },
  {
   "cell_type": "code",
   "execution_count": null,
   "metadata": {},
   "outputs": [],
   "source": []
  },
  {
   "cell_type": "code",
   "execution_count": null,
   "metadata": {},
   "outputs": [],
   "source": []
  },
  {
   "cell_type": "code",
   "execution_count": null,
   "metadata": {},
   "outputs": [],
   "source": []
  },
  {
   "cell_type": "code",
   "execution_count": null,
   "metadata": {},
   "outputs": [],
   "source": []
  },
  {
   "cell_type": "code",
   "execution_count": null,
   "metadata": {},
   "outputs": [],
   "source": []
  },
  {
   "cell_type": "code",
   "execution_count": null,
   "metadata": {},
   "outputs": [],
   "source": []
  }
 ],
 "metadata": {
  "kernelspec": {
   "display_name": "Python 3.6.10 64-bit ('deeplearning': conda)",
   "language": "python",
   "name": "python361064bitdeeplearningcondaa9daeba634b04f9786f392bcf0f53381"
  },
  "language_info": {
   "codemirror_mode": {
    "name": "ipython",
    "version": 3
   },
   "file_extension": ".py",
   "mimetype": "text/x-python",
   "name": "python",
   "nbconvert_exporter": "python",
   "pygments_lexer": "ipython3",
   "version": "3.6.10"
  }
 },
 "nbformat": 4,
 "nbformat_minor": 4
}
